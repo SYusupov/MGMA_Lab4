{
 "cells": [
  {
   "cell_type": "markdown",
   "metadata": {},
   "source": [
    "Install the required packages:"
   ]
  },
  {
   "cell_type": "code",
   "execution_count": 1,
   "metadata": {},
   "outputs": [
    {
     "name": "stdout",
     "output_type": "stream",
     "text": [
      "Requirement already satisfied: pip in /home/sayyor/.local/share/virtualenvs/Decision_Modelling-5MWfXJOk/lib/python3.10/site-packages (24.0)\n",
      "Requirement already satisfied: node2vec in /home/sayyor/.local/share/virtualenvs/Decision_Modelling-5MWfXJOk/lib/python3.10/site-packages (0.4.6)\n",
      "Requirement already satisfied: gensim<5.0.0,>=4.1.2 in /home/sayyor/.local/share/virtualenvs/Decision_Modelling-5MWfXJOk/lib/python3.10/site-packages (from node2vec) (4.3.2)\n",
      "Requirement already satisfied: joblib<2.0.0,>=1.1.0 in /home/sayyor/.local/share/virtualenvs/Decision_Modelling-5MWfXJOk/lib/python3.10/site-packages (from node2vec) (1.3.2)\n",
      "Requirement already satisfied: networkx<3.0,>=2.5 in /home/sayyor/.local/share/virtualenvs/Decision_Modelling-5MWfXJOk/lib/python3.10/site-packages (from node2vec) (2.8.8)\n",
      "Requirement already satisfied: numpy<2.0.0,>=1.19.5 in /home/sayyor/.local/share/virtualenvs/Decision_Modelling-5MWfXJOk/lib/python3.10/site-packages (from node2vec) (1.26.0)\n",
      "Requirement already satisfied: tqdm<5.0.0,>=4.55.1 in /home/sayyor/.local/share/virtualenvs/Decision_Modelling-5MWfXJOk/lib/python3.10/site-packages (from node2vec) (4.66.2)\n",
      "Requirement already satisfied: scipy>=1.7.0 in /home/sayyor/.local/share/virtualenvs/Decision_Modelling-5MWfXJOk/lib/python3.10/site-packages (from gensim<5.0.0,>=4.1.2->node2vec) (1.11.3)\n",
      "Requirement already satisfied: smart-open>=1.8.1 in /home/sayyor/.local/share/virtualenvs/Decision_Modelling-5MWfXJOk/lib/python3.10/site-packages (from gensim<5.0.0,>=4.1.2->node2vec) (6.4.0)\n",
      "Requirement already satisfied: pandas in /home/sayyor/.local/share/virtualenvs/Decision_Modelling-5MWfXJOk/lib/python3.10/site-packages (2.1.1)\n",
      "Requirement already satisfied: numpy>=1.22.4 in /home/sayyor/.local/share/virtualenvs/Decision_Modelling-5MWfXJOk/lib/python3.10/site-packages (from pandas) (1.26.0)\n",
      "Requirement already satisfied: python-dateutil>=2.8.2 in /home/sayyor/.local/share/virtualenvs/Decision_Modelling-5MWfXJOk/lib/python3.10/site-packages (from pandas) (2.8.2)\n",
      "Requirement already satisfied: pytz>=2020.1 in /home/sayyor/.local/share/virtualenvs/Decision_Modelling-5MWfXJOk/lib/python3.10/site-packages (from pandas) (2023.3.post1)\n",
      "Requirement already satisfied: tzdata>=2022.1 in /home/sayyor/.local/share/virtualenvs/Decision_Modelling-5MWfXJOk/lib/python3.10/site-packages (from pandas) (2023.3)\n",
      "Requirement already satisfied: six>=1.5 in /home/sayyor/.local/share/virtualenvs/Decision_Modelling-5MWfXJOk/lib/python3.10/site-packages (from python-dateutil>=2.8.2->pandas) (1.16.0)\n",
      "Requirement already satisfied: scikit-learn in /home/sayyor/.local/share/virtualenvs/Decision_Modelling-5MWfXJOk/lib/python3.10/site-packages (1.3.2)\n",
      "Requirement already satisfied: numpy<2.0,>=1.17.3 in /home/sayyor/.local/share/virtualenvs/Decision_Modelling-5MWfXJOk/lib/python3.10/site-packages (from scikit-learn) (1.26.0)\n",
      "Requirement already satisfied: scipy>=1.5.0 in /home/sayyor/.local/share/virtualenvs/Decision_Modelling-5MWfXJOk/lib/python3.10/site-packages (from scikit-learn) (1.11.3)\n",
      "Requirement already satisfied: joblib>=1.1.1 in /home/sayyor/.local/share/virtualenvs/Decision_Modelling-5MWfXJOk/lib/python3.10/site-packages (from scikit-learn) (1.3.2)\n",
      "Requirement already satisfied: threadpoolctl>=2.0.0 in /home/sayyor/.local/share/virtualenvs/Decision_Modelling-5MWfXJOk/lib/python3.10/site-packages (from scikit-learn) (3.2.0)\n",
      "Requirement already satisfied: networkx in /home/sayyor/.local/share/virtualenvs/Decision_Modelling-5MWfXJOk/lib/python3.10/site-packages (2.8.8)\n",
      "Requirement already satisfied: python-louvain in /home/sayyor/.local/share/virtualenvs/Decision_Modelling-5MWfXJOk/lib/python3.10/site-packages (0.16)\n",
      "Requirement already satisfied: networkx in /home/sayyor/.local/share/virtualenvs/Decision_Modelling-5MWfXJOk/lib/python3.10/site-packages (from python-louvain) (2.8.8)\n",
      "Requirement already satisfied: numpy in /home/sayyor/.local/share/virtualenvs/Decision_Modelling-5MWfXJOk/lib/python3.10/site-packages (from python-louvain) (1.26.0)\n",
      "^C\n",
      "Traceback (most recent call last):\n",
      "  File \"/home/sayyor/.local/share/virtualenvs/Decision_Modelling-5MWfXJOk/bin/pip\", line 8, in <module>\n",
      "    sys.exit(main())\n",
      "  File \"/home/sayyor/.local/share/virtualenvs/Decision_Modelling-5MWfXJOk/lib/python3.10/site-packages/pip/_internal/cli/main.py\", line 79, in main\n",
      "    return command.main(cmd_args)\n",
      "  File \"/home/sayyor/.local/share/virtualenvs/Decision_Modelling-5MWfXJOk/lib/python3.10/site-packages/pip/_internal/cli/base_command.py\", line 101, in main\n",
      "    return self._main(args)\n",
      "  File \"/home/sayyor/.local/share/virtualenvs/Decision_Modelling-5MWfXJOk/lib/python3.10/site-packages/pip/_internal/cli/base_command.py\", line 119, in _main\n",
      "    level_number = setup_logging(\n",
      "  File \"/home/sayyor/.local/share/virtualenvs/Decision_Modelling-5MWfXJOk/lib/python3.10/site-packages/pip/_internal/utils/logging.py\", line 275, in setup_logging\n",
      "    logging.config.dictConfig(\n",
      "  File \"/usr/lib/python3.10/logging/config.py\", line 811, in dictConfig\n",
      "    dictConfigClass(config).configure()\n",
      "  File \"/usr/lib/python3.10/logging/config.py\", line 565, in configure\n",
      "    handler = self.configure_handler(handlers[name])\n",
      "  File \"/usr/lib/python3.10/logging/config.py\", line 746, in configure_handler\n",
      "    result = factory(**kwargs)\n",
      "  File \"/home/sayyor/.local/share/virtualenvs/Decision_Modelling-5MWfXJOk/lib/python3.10/site-packages/pip/_internal/utils/logging.py\", line 145, in __init__\n",
      "    console=Console(file=stream, no_color=no_color, soft_wrap=True),\n",
      "  File \"/home/sayyor/.local/share/virtualenvs/Decision_Modelling-5MWfXJOk/lib/python3.10/site-packages/pip/_vendor/rich/console.py\", line 747, in __init__\n",
      "    self._thread_locals = ConsoleThreadLocals(\n",
      "  File \"<string>\", line 2, in __init__\n",
      "KeyboardInterrupt\n",
      "Requirement already satisfied: python-igraph in /home/sayyor/.local/share/virtualenvs/Decision_Modelling-5MWfXJOk/lib/python3.10/site-packages (0.11.4)\n",
      "Requirement already satisfied: igraph==0.11.4 in /home/sayyor/.local/share/virtualenvs/Decision_Modelling-5MWfXJOk/lib/python3.10/site-packages (from python-igraph) (0.11.4)\n",
      "Requirement already satisfied: texttable>=1.6.2 in /home/sayyor/.local/share/virtualenvs/Decision_Modelling-5MWfXJOk/lib/python3.10/site-packages (from igraph==0.11.4->python-igraph) (1.7.0)\n",
      "Requirement already satisfied: torch_geometric in /home/sayyor/.local/share/virtualenvs/Decision_Modelling-5MWfXJOk/lib/python3.10/site-packages (2.5.0)\n",
      "Requirement already satisfied: tqdm in /home/sayyor/.local/share/virtualenvs/Decision_Modelling-5MWfXJOk/lib/python3.10/site-packages (from torch_geometric) (4.66.2)\n",
      "Requirement already satisfied: numpy in /home/sayyor/.local/share/virtualenvs/Decision_Modelling-5MWfXJOk/lib/python3.10/site-packages (from torch_geometric) (1.26.0)\n",
      "Requirement already satisfied: scipy in /home/sayyor/.local/share/virtualenvs/Decision_Modelling-5MWfXJOk/lib/python3.10/site-packages (from torch_geometric) (1.11.3)\n",
      "Requirement already satisfied: fsspec in /home/sayyor/.local/share/virtualenvs/Decision_Modelling-5MWfXJOk/lib/python3.10/site-packages (from torch_geometric) (2024.2.0)\n",
      "Requirement already satisfied: jinja2 in /home/sayyor/.local/share/virtualenvs/Decision_Modelling-5MWfXJOk/lib/python3.10/site-packages (from torch_geometric) (3.1.3)\n",
      "Requirement already satisfied: aiohttp in /home/sayyor/.local/share/virtualenvs/Decision_Modelling-5MWfXJOk/lib/python3.10/site-packages (from torch_geometric) (3.9.3)\n",
      "Requirement already satisfied: requests in /home/sayyor/.local/share/virtualenvs/Decision_Modelling-5MWfXJOk/lib/python3.10/site-packages (from torch_geometric) (2.31.0)\n",
      "Requirement already satisfied: pyparsing in /home/sayyor/.local/share/virtualenvs/Decision_Modelling-5MWfXJOk/lib/python3.10/site-packages (from torch_geometric) (3.1.1)\n",
      "Requirement already satisfied: scikit-learn in /home/sayyor/.local/share/virtualenvs/Decision_Modelling-5MWfXJOk/lib/python3.10/site-packages (from torch_geometric) (1.3.2)\n",
      "Requirement already satisfied: psutil>=5.8.0 in /home/sayyor/.local/share/virtualenvs/Decision_Modelling-5MWfXJOk/lib/python3.10/site-packages (from torch_geometric) (5.9.5)\n",
      "Requirement already satisfied: aiosignal>=1.1.2 in /home/sayyor/.local/share/virtualenvs/Decision_Modelling-5MWfXJOk/lib/python3.10/site-packages (from aiohttp->torch_geometric) (1.3.1)\n",
      "Requirement already satisfied: attrs>=17.3.0 in /home/sayyor/.local/share/virtualenvs/Decision_Modelling-5MWfXJOk/lib/python3.10/site-packages (from aiohttp->torch_geometric) (23.2.0)\n",
      "Requirement already satisfied: frozenlist>=1.1.1 in /home/sayyor/.local/share/virtualenvs/Decision_Modelling-5MWfXJOk/lib/python3.10/site-packages (from aiohttp->torch_geometric) (1.4.1)\n",
      "Requirement already satisfied: multidict<7.0,>=4.5 in /home/sayyor/.local/share/virtualenvs/Decision_Modelling-5MWfXJOk/lib/python3.10/site-packages (from aiohttp->torch_geometric) (6.0.5)\n",
      "Requirement already satisfied: yarl<2.0,>=1.0 in /home/sayyor/.local/share/virtualenvs/Decision_Modelling-5MWfXJOk/lib/python3.10/site-packages (from aiohttp->torch_geometric) (1.9.4)\n",
      "Requirement already satisfied: async-timeout<5.0,>=4.0 in /home/sayyor/.local/share/virtualenvs/Decision_Modelling-5MWfXJOk/lib/python3.10/site-packages (from aiohttp->torch_geometric) (4.0.3)\n",
      "Requirement already satisfied: MarkupSafe>=2.0 in /home/sayyor/.local/share/virtualenvs/Decision_Modelling-5MWfXJOk/lib/python3.10/site-packages (from jinja2->torch_geometric) (2.1.5)\n",
      "Requirement already satisfied: charset-normalizer<4,>=2 in /home/sayyor/.local/share/virtualenvs/Decision_Modelling-5MWfXJOk/lib/python3.10/site-packages (from requests->torch_geometric) (3.3.2)\n",
      "Requirement already satisfied: idna<4,>=2.5 in /home/sayyor/.local/share/virtualenvs/Decision_Modelling-5MWfXJOk/lib/python3.10/site-packages (from requests->torch_geometric) (3.6)\n",
      "Requirement already satisfied: urllib3<3,>=1.21.1 in /home/sayyor/.local/share/virtualenvs/Decision_Modelling-5MWfXJOk/lib/python3.10/site-packages (from requests->torch_geometric) (2.2.1)\n",
      "Requirement already satisfied: certifi>=2017.4.17 in /home/sayyor/.local/share/virtualenvs/Decision_Modelling-5MWfXJOk/lib/python3.10/site-packages (from requests->torch_geometric) (2024.2.2)\n",
      "Requirement already satisfied: joblib>=1.1.1 in /home/sayyor/.local/share/virtualenvs/Decision_Modelling-5MWfXJOk/lib/python3.10/site-packages (from scikit-learn->torch_geometric) (1.3.2)\n",
      "Requirement already satisfied: threadpoolctl>=2.0.0 in /home/sayyor/.local/share/virtualenvs/Decision_Modelling-5MWfXJOk/lib/python3.10/site-packages (from scikit-learn->torch_geometric) (3.2.0)\n",
      "Requirement already satisfied: torch in /home/sayyor/.local/share/virtualenvs/Decision_Modelling-5MWfXJOk/lib/python3.10/site-packages (2.2.0)\n",
      "Requirement already satisfied: filelock in /home/sayyor/.local/share/virtualenvs/Decision_Modelling-5MWfXJOk/lib/python3.10/site-packages (from torch) (3.13.1)\n",
      "Requirement already satisfied: typing-extensions>=4.8.0 in /home/sayyor/.local/share/virtualenvs/Decision_Modelling-5MWfXJOk/lib/python3.10/site-packages (from torch) (4.9.0)\n",
      "Requirement already satisfied: sympy in /home/sayyor/.local/share/virtualenvs/Decision_Modelling-5MWfXJOk/lib/python3.10/site-packages (from torch) (1.12)\n",
      "Requirement already satisfied: networkx in /home/sayyor/.local/share/virtualenvs/Decision_Modelling-5MWfXJOk/lib/python3.10/site-packages (from torch) (2.8.8)\n",
      "Requirement already satisfied: jinja2 in /home/sayyor/.local/share/virtualenvs/Decision_Modelling-5MWfXJOk/lib/python3.10/site-packages (from torch) (3.1.3)\n",
      "Requirement already satisfied: fsspec in /home/sayyor/.local/share/virtualenvs/Decision_Modelling-5MWfXJOk/lib/python3.10/site-packages (from torch) (2024.2.0)\n",
      "Requirement already satisfied: nvidia-cuda-nvrtc-cu12==12.1.105 in /home/sayyor/.local/share/virtualenvs/Decision_Modelling-5MWfXJOk/lib/python3.10/site-packages (from torch) (12.1.105)\n",
      "Requirement already satisfied: nvidia-cuda-runtime-cu12==12.1.105 in /home/sayyor/.local/share/virtualenvs/Decision_Modelling-5MWfXJOk/lib/python3.10/site-packages (from torch) (12.1.105)\n",
      "Requirement already satisfied: nvidia-cuda-cupti-cu12==12.1.105 in /home/sayyor/.local/share/virtualenvs/Decision_Modelling-5MWfXJOk/lib/python3.10/site-packages (from torch) (12.1.105)\n",
      "Requirement already satisfied: nvidia-cudnn-cu12==8.9.2.26 in /home/sayyor/.local/share/virtualenvs/Decision_Modelling-5MWfXJOk/lib/python3.10/site-packages (from torch) (8.9.2.26)\n",
      "Requirement already satisfied: nvidia-cublas-cu12==12.1.3.1 in /home/sayyor/.local/share/virtualenvs/Decision_Modelling-5MWfXJOk/lib/python3.10/site-packages (from torch) (12.1.3.1)\n",
      "Requirement already satisfied: nvidia-cufft-cu12==11.0.2.54 in /home/sayyor/.local/share/virtualenvs/Decision_Modelling-5MWfXJOk/lib/python3.10/site-packages (from torch) (11.0.2.54)\n",
      "Requirement already satisfied: nvidia-curand-cu12==10.3.2.106 in /home/sayyor/.local/share/virtualenvs/Decision_Modelling-5MWfXJOk/lib/python3.10/site-packages (from torch) (10.3.2.106)\n",
      "Requirement already satisfied: nvidia-cusolver-cu12==11.4.5.107 in /home/sayyor/.local/share/virtualenvs/Decision_Modelling-5MWfXJOk/lib/python3.10/site-packages (from torch) (11.4.5.107)\n",
      "Requirement already satisfied: nvidia-cusparse-cu12==12.1.0.106 in /home/sayyor/.local/share/virtualenvs/Decision_Modelling-5MWfXJOk/lib/python3.10/site-packages (from torch) (12.1.0.106)\n",
      "Requirement already satisfied: nvidia-nccl-cu12==2.19.3 in /home/sayyor/.local/share/virtualenvs/Decision_Modelling-5MWfXJOk/lib/python3.10/site-packages (from torch) (2.19.3)\n",
      "Requirement already satisfied: nvidia-nvtx-cu12==12.1.105 in /home/sayyor/.local/share/virtualenvs/Decision_Modelling-5MWfXJOk/lib/python3.10/site-packages (from torch) (12.1.105)\n",
      "Requirement already satisfied: triton==2.2.0 in /home/sayyor/.local/share/virtualenvs/Decision_Modelling-5MWfXJOk/lib/python3.10/site-packages (from torch) (2.2.0)\n",
      "Requirement already satisfied: nvidia-nvjitlink-cu12 in /home/sayyor/.local/share/virtualenvs/Decision_Modelling-5MWfXJOk/lib/python3.10/site-packages (from nvidia-cusolver-cu12==11.4.5.107->torch) (12.3.101)\n",
      "Requirement already satisfied: MarkupSafe>=2.0 in /home/sayyor/.local/share/virtualenvs/Decision_Modelling-5MWfXJOk/lib/python3.10/site-packages (from jinja2->torch) (2.1.5)\n",
      "Requirement already satisfied: mpmath>=0.19 in /home/sayyor/.local/share/virtualenvs/Decision_Modelling-5MWfXJOk/lib/python3.10/site-packages (from sympy->torch) (1.3.0)\n",
      "/bin/bash: -c: line 2: syntax error: unexpected end of file\n"
     ]
    }
   ],
   "source": [
    "!pip install --upgrade pip\n",
    "!pip install node2vec\n",
    "!pip install pandas\n",
    "!pip install scikit-learn\n",
    "!pip install networkx\n",
    "!pip install python-louvain\n",
    "!pip install pydot\n",
    "!pip install python-igraph\n",
    "!pip install torch_geometric\n",
    "!pip install torch\n",
    "!pip install faiss-gpu"
   ]
  },
  {
   "cell_type": "code",
   "execution_count": 2,
   "metadata": {},
   "outputs": [
    {
     "name": "stderr",
     "output_type": "stream",
     "text": [
      "/home/sayyor/.local/share/virtualenvs/Decision_Modelling-5MWfXJOk/lib/python3.10/site-packages/tqdm/auto.py:21: TqdmWarning: IProgress not found. Please update jupyter and ipywidgets. See https://ipywidgets.readthedocs.io/en/stable/user_install.html\n",
      "  from .autonotebook import tqdm as notebook_tqdm\n",
      "/home/sayyor/.local/share/virtualenvs/Decision_Modelling-5MWfXJOk/lib/python3.10/site-packages/torch/cuda/__init__.py:141: UserWarning: CUDA initialization: Unexpected error from cudaGetDeviceCount(). Did you run some cuda functions before calling NumCudaDevices() that might have already set an error? Error 804: forward compatibility was attempted on non supported HW (Triggered internally at ../c10/cuda/CUDAFunctions.cpp:108.)\n",
      "  return torch._C._cuda_getDeviceCount() > 0\n"
     ]
    }
   ],
   "source": [
    "import numpy as np\n",
    "import pandas as pd\n",
    "import faiss\n",
    "import matplotlib.pyplot as plt\n",
    "import numpy as np\n",
    "import networkx as nx\n",
    "from networkx.algorithms.community import partition_quality\n",
    "import pandas as pd\n",
    "import community as community_louvain\n",
    "from sklearn.metrics import normalized_mutual_info_score, adjusted_rand_score\n",
    "\n",
    "from node2vec import Node2Vec\n",
    "from sklearn.cluster import KMeans\n",
    "import time\n",
    "\n",
    "from random import uniform, seed\n",
    "import time\n",
    "from igraph import *\n",
    "\n",
    "import pickle\n",
    "import json\n",
    "\n",
    "import torch\n",
    "import torch.nn.functional as F\n",
    "from torch_geometric.utils import from_networkx\n",
    "from torch_geometric.data import Data\n",
    "from torch_geometric.nn import GCNConv\n",
    "from sklearn.metrics import normalized_mutual_info_score\n",
    "\n",
    "device = torch.device('cuda' if torch.cuda.is_available() else 'cpu')"
   ]
  },
  {
   "cell_type": "markdown",
   "metadata": {},
   "source": [
    "## Community Detection"
   ]
  },
  {
   "cell_type": "markdown",
   "metadata": {},
   "source": [
    "### Dataset Definition"
   ]
  },
  {
   "cell_type": "markdown",
   "metadata": {},
   "source": [
    "For this lab, we used graph dataset of the [DBLP](http://dblp.uni-trier.de/) computer science bibliography. Nodes are authors of academic papers, and edges are constructed between a pair of authors if they published at least one paper together as co-authors. We put the dataset to **\"dblp/\"** folder in our submission directory. We downloaded it from [this page](https://snap.stanford.edu/data/com-DBLP.html). The authors (nodes) are put together based on the publication venue, journal or conference, of the academic papers, and they can be considered as ground-truth communities.\n",
    "\n",
    "**Key Statistics**\n",
    "\n",
    "- **Nodes**: 317,080 authors, representing the nodes\n",
    "- **Edges**: 1,049,866 connections, indicating co-authorship relationships."
   ]
  },
  {
   "cell_type": "code",
   "execution_count": 4,
   "metadata": {},
   "outputs": [],
   "source": [
    "# Loading the graph data\n",
    "edges_df = pd.read_csv('dblp/edges.txt', delimiter='\\t', skiprows=4, names=['id_1', 'id_2'])"
   ]
  },
  {
   "cell_type": "markdown",
   "metadata": {},
   "source": [
    "To identify communities in the graph, we applied the following community detection algorithms:\n",
    "- **Louvain Algorithm**\n",
    "- **Graph Convolutional Network**\n",
    "\n",
    "and evaluated the resulting communities with the following measures:\n",
    "\n",
    "**Internal Density**: Measures how dense the nodes within the communities are. The formula for obtaining this measures is: \n",
    "$$\n",
    "\\text{Internal Density}(\\text{comm}_i) = \\frac{2E_{c_i}}{n_{c_i}(n_{c_i} - 1)}\n",
    "$$\n",
    "\n",
    "  - **$E_{c_i}$**: Represents the number of edges within community $i$. It counts all the connections that exist between nodes in the same community.\n",
    "  - **$n_{c_i}$**: Stands for the number of nodes within community $i$. It indicates how many nodes belong to the community.\n",
    "  - **${n_{c_i}(n_{c_i} - 1)}$**: This is used in the denominator to account for the maximum possible number of connections between nodes within a community, excluding self-loops.\n",
    "\n",
    "\n",
    "**External Density**: Measures how dense the nodes that belong to different communities are\n",
    "$$\n",
    "\\text{External Density}(\\text{comm}_i) = \\frac{E_{ext_{c_i}}}{n_{c_i}(N - n_{c_i})}\n",
    "$$\n",
    "\n",
    "  - **$E_{ext_{c_i}}$**: The number of edges that connect nodes in community $i$ to nodes outside of that community. It measures the community's connectivity to the rest of the graph.\n",
    "  - **$n_{c_i}$**: Represents the number of nodes within community $i$, as in the internal density formula.\n",
    "  - **$N$**: The total number of nodes in the graph. This includes all nodes, both within and outside of community $i$.\n",
    "  - **$N - n_{c_i}$**: Calculates the number of nodes that are not part of community $i$, providing a basis for understanding the potential for external connections.\n",
    "\n",
    "**Coverage**: ratio of the number edges within communities and the total number of edges\n",
    "$$\n",
    "\\text{Coverage} = \\frac{\\text{Number of intra-community edges}}{\\text{Total number of edges in the graph}}\n",
    "$$\n",
    "\n",
    "- **Intra-community edges**: Edges that connect nodes within the same community.\n",
    "- **Total number of edges in the graph**: The sum of all edges in the network, including both intra- and inter-community edges.\n",
    "\n",
    "\n",
    "**Performance**: the number of edges within a community plus the number of inter-community non-edges (the absence of edges with other nodes of other communities), divided by the maximum possible number of edges of the network. \n",
    "$$\n",
    "\\text{Performance} = \\frac{\\text{Intra-community edges} + \\text{Inter-community non-edges}}{\\text{Total potential edges}}\n",
    "$$\n",
    "\n",
    "- **Intra-community edges**: As defined above.\n",
    "- **Inter-community non-edges**: The potential connections between communities that do not exist. It is calculated as the difference between the total number of possible inter-community edges and the actual number of inter-community edges.\n",
    "- **Total potential edges**: The maximum number of edges that the graph can have. For undirected graphs, this is $\\frac{n(n - 1)}{2}$, and for directed graphs, it is $n(n - 1)$, where $n$ is the total number of nodes in the graph.\n",
    "\n",
    "**Modularity**: Measures the degree distribution of the communities compared to a degree distribution of a randomly generated graph (null graph). The larger it is the better the community structure. It ranges from -0.5 to 1.\n",
    "$$\n",
    "Q = \\frac{1}{2m} \\sum_{ij} \\left( A_{ij} - \\gamma \\frac{k_i k_j}{2m} \\right) \\delta(c_i, c_j)\n",
    "$$\n",
    " - **$m$**: Represents the number of edges\n",
    " - **$A_{ij}$**: Element of the adjacency matrix of the graph, which is 1 if there is an edge between nodes $i$ and $j$, and 0 otherwise.\n",
    " - **$k_i$**: Degree of node $i$, i.e., the number of edges connected to node $i$.\n",
    " - **$\\gamma$**: Resolution parameter that can scale the contribution of the null model, allowing for the detection of communities at different scales.\n",
    " - **$\\delta(c_i, c_j)$**: Equals to 1 if $i$ and $j$ are in the same community, otherwise 0\n",
    "\n",
    "We also compared the Communities to the Ground-Truth Communities, using the following measures:\n",
    "\n",
    "**Normalized Mutual Information** - from information theory, evaluates the mutual dependence between 2 partitions (or in this ground truth from the predicted communities). 0 is no mutual information and 1 is perfect correlation. It is suitable for paritions of different sizes.\n",
    "$$\n",
    "MI(U, V) = \\sum_{i=1}^{|U|} \\sum_{j=1}^{|V|} \\left( \\frac{|U_i \\cap V_j|}{N} \\right) \\log \\left( \\frac{N |U_i \\cap V_j|}{|U_i| |V_j|} \\right)\n",
    "$$\n",
    " - **$U$ and $V$**: The two partitions of a dataset, where $|U|$ and $|V|$ denote the number of communities within each partition\n",
    " - **$U_i$**: The set of nodes in $i$-th cluster of partition $U$\n",
    " - **$|U_i \\cap V_j|$**: The number of nodes in common between community $i$ of $U$ and community $j$ of $V_j$\n",
    " - **$N$**: the total number of nodes\n",
    "\n",
    "\n",
    "**Adjusted Rand Index** - measures similarity between 2 data communities. Min value is -1 and max is 1, where 1 means communities are identical, and -1 means complete disagreement. It is a version of Rand Index that is adjusted for chance.\n",
    "\n",
    "$$\n",
    "RI = \\frac{\\text{number of agreeing pairs}}{\\text{number of pairs}}\n",
    "$$\n",
    "\n",
    "$$\n",
    "ARI = \\frac{RI - \\text{Expected\\_RI}}{\\text{max(RI)} - \\text{Expected\\_RI}}\n",
    "$$\n",
    "\n",
    "- **Number of agreeing pairs**: The sum of the number of pairs of elements that are either in the same cluster in both partitions or in different clusters in both partitions.\n",
    "- **Number of pairs**: The total number of possible pairs of elements in the dataset.\n",
    "- **RI**: Rand Index as defined above.\n",
    "- **Expected_RI**: The expected Rand Index under a model of randomness.\n",
    "- **max(RI)**: The maximum possible value of the Rand Index, which occurs when the partitions are identical."
   ]
  },
  {
   "cell_type": "markdown",
   "metadata": {},
   "source": [
    "Community Detection measures: propagation, number of nodes propagated, play with seeds"
   ]
  },
  {
   "cell_type": "markdown",
   "metadata": {},
   "source": [
    "### Loading Ground-Truth Communities"
   ]
  },
  {
   "cell_type": "markdown",
   "metadata": {},
   "source": [
    "There are 13477 ground-truth communities, corresponding to the publication venue. They are of course not the only communities that can be created. Bigger communities can be formed based on the topic of the paper or the affiliation of the professors, for example."
   ]
  },
  {
   "cell_type": "code",
   "execution_count": 5,
   "metadata": {},
   "outputs": [],
   "source": [
    "ground_truth_communities = []\n",
    "with open('dblp/communities.txt', 'r') as file:\n",
    "    for line in file:\n",
    "        community = set(line.strip().split('\\t'))\n",
    "        community = [int(node) for node in community]\n",
    "        ground_truth_communities.append(community)"
   ]
  },
  {
   "cell_type": "code",
   "execution_count": 6,
   "metadata": {},
   "outputs": [
    {
     "name": "stdout",
     "output_type": "stream",
     "text": [
      "Number of unique nodes:  317080\n",
      "Number of nodes in communities 719820\n",
      "Number of unique nodes in communities:  260998\n",
      "Min index of a node:  0\n",
      "Max index of a node:  425956\n"
     ]
    }
   ],
   "source": [
    "nodes_1 = list(edges_df['id_1'].values)\n",
    "nodes_2 = list(edges_df['id_2'].values)\n",
    "print(\"Number of unique nodes: \", len(set(nodes_1+nodes_2)))\n",
    "\n",
    "nodes = []\n",
    "for line in ground_truth_communities:\n",
    "    for node in line:\n",
    "        nodes.append(node)\n",
    "print(\"Number of nodes in communities\", len(nodes))\n",
    "print(\"Number of unique nodes in communities: \", len(set(nodes)))\n",
    "\n",
    "nodes = [int(node) for node in nodes]\n",
    "print(\"Min index of a node: \", min(nodes))\n",
    "print(\"Max index of a node: \", max(nodes))"
   ]
  },
  {
   "cell_type": "markdown",
   "metadata": {},
   "source": [
    "We can see that, in the Ground-Truth communities, not all nodes are assigned a community. \n",
    "Also, of those assigned to a community, they are assigned to around 2.75 communities on average. \n",
    "Thus, our ground-truth is not perfect and this will greatly affect the comparison with our results, that will only have exactly a single assignment of each node to a community.\n",
    "\n",
    "Furthermore, the indexing of the nodes misses indexes in between as the last node's index does not match the number of nodes in the graph. So we need to do some preprocessing."
   ]
  },
  {
   "cell_type": "markdown",
   "metadata": {},
   "source": [
    "### Preprocessing the Nodes"
   ]
  },
  {
   "cell_type": "code",
   "execution_count": 7,
   "metadata": {},
   "outputs": [],
   "source": [
    "# Step 1: Create a mapping from old indices to new\n",
    "unique_nodes = set(edges_df['id_1']).union(set(edges_df['id_2']))\n",
    "\n",
    "node_mapping = {old_id: new_id for new_id, old_id in enumerate(unique_nodes)}\n",
    "\n",
    "# Step 2: Update edges data\n",
    "edges_df['id_1'] = edges_df['id_1'].map(node_mapping)\n",
    "edges_df['id_2'] = edges_df['id_2'].map(node_mapping)\n",
    "\n",
    "# Step 3: Update communities data\n",
    "updated_communities = []\n",
    "for community in ground_truth_communities:\n",
    "    updated_community = {node_mapping[node] for node in community if node in node_mapping}\n",
    "    updated_communities.append(updated_community)\n",
    "\n",
    "ground_truth_communities = list(updated_communities)\n",
    "\n",
    "G = nx.from_pandas_edgelist(edges_df, 'id_1', 'id_2')"
   ]
  },
  {
   "cell_type": "markdown",
   "metadata": {},
   "source": [
    "### Applying Louvain Algorithm"
   ]
  },
  {
   "cell_type": "code",
   "execution_count": 26,
   "metadata": {},
   "outputs": [],
   "source": [
    "# Load partition dictionary using pickle\n",
    "with open('louvain_partition_dict.pkl', 'rb') as f:\n",
    "    partition = pickle.load(f)\n",
    "\n",
    "for node, comm_id in partition.items():\n",
    "    G.nodes[node]['community'] = comm_id"
   ]
  },
  {
   "cell_type": "markdown",
   "metadata": {},
   "source": [
    "##### The code below runs for 3 minutes. Alternatively, you can load its saved results using the cell above"
   ]
  },
  {
   "cell_type": "code",
   "execution_count": 9,
   "metadata": {},
   "outputs": [],
   "source": [
    "### This takes 3 minutes\n",
    "partition = community_louvain.best_partition(G, random_state=123)\n",
    "# Add community to nodes attributes\n",
    "for node, comm_id in partition.items():\n",
    "    G.nodes[node]['community'] = comm_id\n",
    "\n",
    "with open('louvain_partition_dict.pkl', 'wb') as f:\n",
    "    pickle.dump(partition, f)\n",
    "\n",
    "graph_data = nx.node_link_data(G)\n",
    "with open('graph_with_louvain_communities.json', 'w') as f:\n",
    "    json.dump(graph_data, f)"
   ]
  },
  {
   "cell_type": "markdown",
   "metadata": {},
   "source": [
    "Now let's see the quality of the resulting communities using our measures."
   ]
  },
  {
   "cell_type": "markdown",
   "metadata": {},
   "source": [
    "#### Modularity"
   ]
  },
  {
   "cell_type": "code",
   "execution_count": 27,
   "metadata": {},
   "outputs": [
    {
     "name": "stdout",
     "output_type": "stream",
     "text": [
      "Modularity: 0.8206532619018135\n"
     ]
    }
   ],
   "source": [
    "modularity = community_louvain.modularity(partition, G)\n",
    "print(f\"Modularity: {modularity}\")"
   ]
  },
  {
   "cell_type": "markdown",
   "metadata": {},
   "source": [
    "This is a high value for modularity, considering the maximum value is 1. Thus the nodes within communities are very connected. The graph has itself many edges, more than 3 times as many as there are edges, so this also must have contributed to such a high number."
   ]
  },
  {
   "cell_type": "markdown",
   "metadata": {},
   "source": [
    "#### Density"
   ]
  },
  {
   "cell_type": "code",
   "execution_count": 28,
   "metadata": {},
   "outputs": [],
   "source": [
    "def calculate_densities(G, partition):\n",
    "    internal_densities = {}\n",
    "    external_densities = {}\n",
    "    N = G.number_of_nodes()\n",
    "\n",
    "    # Reverse the partition dictionary to group by community\n",
    "    communities = {}\n",
    "    for node, comm_id in partition.items():\n",
    "        communities.setdefault(comm_id, []).append(node)\n",
    "\n",
    "    for comm_id, nodes in communities.items():\n",
    "        subgraph = G.subgraph(nodes)\n",
    "        E_c = subgraph.number_of_edges()\n",
    "        n_c = len(nodes)\n",
    "        internal_density = (2 * E_c) / (n_c * (n_c - 1)) if n_c > 1 else 0\n",
    "        \n",
    "        # For external edges, count edges from nodes in the community to nodes outside\n",
    "        external_edges = sum(1 for node in nodes for neighbor in G.neighbors(node) if neighbor not in nodes)\n",
    "        external_density = external_edges / (n_c * (N - n_c)) if N > n_c > 0 else 0\n",
    "\n",
    "        internal_densities[comm_id] = internal_density\n",
    "        external_densities[comm_id] = external_density\n",
    "\n",
    "    return internal_densities, external_densities\n",
    "\n",
    "internal_densities, external_densities = calculate_densities(G, partition)"
   ]
  },
  {
   "cell_type": "code",
   "execution_count": 29,
   "metadata": {},
   "outputs": [],
   "source": [
    "external_densities_list = list(external_densities.values())\n",
    "internal_densities_list = list(internal_densities.values())"
   ]
  },
  {
   "cell_type": "code",
   "execution_count": 30,
   "metadata": {},
   "outputs": [
    {
     "data": {
      "image/png": "[encoded data removed]",
      "text/plain": [
       "<Figure size 640x480 with 1 Axes>"
      ]
     },
     "metadata": {},
     "output_type": "display_data"
    }
   ],
   "source": [
    "plt.boxplot([internal_densities_list, external_densities_list], patch_artist=True, notch=True, labels=['Internal', 'External'])\n",
    "# Adding titles and labels\n",
    "plt.title('Density Distribution of Communities')\n",
    "plt.ylabel('Density')\n",
    "\n",
    "# Show the plot\n",
    "plt.show()"
   ]
  },
  {
   "cell_type": "markdown",
   "metadata": {},
   "source": [
    "As we can see from the box plot above, Internal Densities are much higher than external densities. In fact, they are over 43000 times larger than the external ones on average."
   ]
  },
  {
   "cell_type": "code",
   "execution_count": 14,
   "metadata": {},
   "outputs": [
    {
     "name": "stdout",
     "output_type": "stream",
     "text": [
      "Internal Density:  0.09341826938586299\n",
      "External Density:  2.1658981216545864e-06\n",
      "Internal is 43131.42361215879 times bigger\n"
     ]
    }
   ],
   "source": [
    "print(\"Internal Density: \", np.mean(internal_densities_list))\n",
    "print(\"External Density: \", np.mean(external_densities_list))\n",
    "print(f\"Internal is {np.mean(internal_densities_list)/np.mean(external_densities_list)} times bigger\")"
   ]
  },
  {
   "cell_type": "markdown",
   "metadata": {},
   "source": [
    "#### Coverage and Performance"
   ]
  },
  {
   "cell_type": "code",
   "execution_count": 15,
   "metadata": {},
   "outputs": [],
   "source": [
    "communities = []\n",
    "unique_communities = set(partition.values())\n",
    "for comm_id in unique_communities:\n",
    "    communities.append({node for node, c_id in partition.items() if c_id == comm_id})\n",
    "\n",
    "# Calculate coverage\n",
    "coverage, performance = partition_quality(G, communities)"
   ]
  },
  {
   "cell_type": "code",
   "execution_count": 16,
   "metadata": {},
   "outputs": [
    {
     "name": "stdout",
     "output_type": "stream",
     "text": [
      "Coverage:  0.843\n",
      "Performance:  0.98\n"
     ]
    }
   ],
   "source": [
    "print(\"Coverage: \", round(coverage,3))\n",
    "print(\"Performance: \", round(performance,3))"
   ]
  },
  {
   "cell_type": "markdown",
   "metadata": {},
   "source": [
    "Coverage shows that 84.3% of all edges are within communities. It is a pretty good result. We will try another algorithm to compare it with this value.\n",
    "\n",
    "Such a high value of performance indicates that the communities have very sparse connections between communities, and very dense connections within communities. It effectively identified the \"natural\" divisions within  the network."
   ]
  },
  {
   "cell_type": "markdown",
   "metadata": {},
   "source": [
    "#### Comparison with the Ground-Truth"
   ]
  },
  {
   "cell_type": "code",
   "execution_count": 17,
   "metadata": {},
   "outputs": [
    {
     "name": "stdout",
     "output_type": "stream",
     "text": [
      "NMI: 0.3162318798881319, ARI: 0.006948805684335143\n"
     ]
    }
   ],
   "source": [
    "def communities_to_labels(communities, node_list):\n",
    "    labels = [-1] * len(node_list)\n",
    "    node_index = {node: idx for idx, node in enumerate(node_list)}\n",
    "    for comm_idx, community in enumerate(communities):\n",
    "        for node in community:\n",
    "            labels[node_index[node]] = comm_idx\n",
    "    return labels\n",
    "\n",
    "# Get a list of all nodes\n",
    "all_nodes = list(set.union(*ground_truth_communities).union(*communities))\n",
    "\n",
    "# Convert both sets of communities to label format\n",
    "gt_labels = communities_to_labels(ground_truth_communities, all_nodes)\n",
    "louvain_labels = communities_to_labels(communities, all_nodes)\n",
    "\n",
    "# Compute NMI and ARI\n",
    "nmi = normalized_mutual_info_score(gt_labels, louvain_labels)\n",
    "ari = adjusted_rand_score(gt_labels, louvain_labels)\n",
    "\n",
    "print(f\"NMI: {nmi}, ARI: {ari}\")"
   ]
  },
  {
   "cell_type": "markdown",
   "metadata": {},
   "source": [
    "Both NMI and ARI are very low. Such a low value must have been a result of the following factors:\n",
    "- The great difference in the sizes of the ground-truth and Louvain communities. There are 75 times more ground-truth communities.\n",
    "- Ground-truth communities do not contain all nodes\n",
    "- Nodes contained in ground-truth communities appear in 2.75 communities"
   ]
  },
  {
   "cell_type": "markdown",
   "metadata": {},
   "source": [
    "### Graph Convolutional Network"
   ]
  },
  {
   "cell_type": "markdown",
   "metadata": {},
   "source": [
    "It is a powerful community detection model. It learns low-dimensional embeddings for each node, which are then clustered to find the communities. \n",
    "\n",
    "To run the model, you can run the code in the second to the next cell. It runs for around 3 minutes with GPU access. Alternatively, you can load the results as follows:"
   ]
  },
  {
   "cell_type": "code",
   "execution_count": 35,
   "metadata": {},
   "outputs": [],
   "source": [
    "predicted_labels = np.load('predicted_labels_GCN.npy')\n",
    "node_embeddings = np.load(\"node_embedding.npy\")\n",
    "\n",
    "edges_df = pd.read_csv('dblp/edges.txt', delimiter='\\t', skiprows=4, names=['id_1', 'id_2'])\n",
    "unique_nodes = set(edges_df['id_1']).union(set(edges_df['id_2']))\n",
    "node_mapping = {old_id: new_id for new_id, old_id in enumerate(unique_nodes)}\n",
    "\n",
    "# Step 2: Update edges data\n",
    "edges_df['id_1'] = edges_df['id_1'].map(node_mapping)\n",
    "edges_df['id_2'] = edges_df['id_2'].map(node_mapping)\n",
    "\n",
    "ground_truth_communities = []\n",
    "with open('dblp/communities.txt', 'r') as file:\n",
    "    for line in file:\n",
    "        community = set(line.strip().split('\\t'))\n",
    "        community = [int(node) for node in community]\n",
    "        ground_truth_communities.append(community)\n",
    "\n",
    "# Step 3: Update communities data\n",
    "updated_communities = []\n",
    "for community in ground_truth_communities:\n",
    "    updated_community = {node_mapping[node] for node in community if node in node_mapping}\n",
    "    updated_communities.append(updated_community)\n",
    "\n",
    "ground_truth_communities = list(updated_communities)\n",
    "\n",
    "G = nx.from_pandas_edgelist(edges_df, 'id_1', 'id_2')"
   ]
  },
  {
   "cell_type": "markdown",
   "metadata": {},
   "source": [
    "##### The cell below runs for 10 minutes, please load the results with the above cell to save time"
   ]
  },
  {
   "cell_type": "code",
   "execution_count": null,
   "metadata": {},
   "outputs": [],
   "source": [
    "data = from_networkx(G).to(device)\n",
    "num_nodes = data.num_nodes\n",
    "\n",
    "# Use degrees as node features\n",
    "degrees = np.array([val for (node, val) in G.degree()])\n",
    "degrees = (degrees - degrees.mean()) / degrees.std()\n",
    "data.x = torch.tensor(degrees, dtype=torch.float).unsqueeze(1).to(device)\n",
    "\n",
    "# Define the GCN model\n",
    "class GCN(torch.nn.Module):\n",
    "    def __init__(self, num_features, hidden_channels):\n",
    "        super(GCN, self).__init__()\n",
    "        self.conv1 = GCNConv(num_features, hidden_channels)\n",
    "        self.conv2 = GCNConv(hidden_channels, hidden_channels)\n",
    "\n",
    "    def forward(self, x, edge_index):\n",
    "        x = self.conv1(x, edge_index)\n",
    "        x = torch.relu(x)\n",
    "        x = self.conv2(x, edge_index)\n",
    "        return x\n",
    "\n",
    "# Initialize the GCN model\n",
    "num_features = data.num_features\n",
    "hidden_channels = 16\n",
    "# Initialize the GCN model and move it to GPU\n",
    "model = GCN(num_features=data.num_features, hidden_channels=16).to(device)\n",
    "\n",
    "# Define the optimizer\n",
    "optimizer = torch.optim.Adam(model.parameters(), lr=0.01)\n",
    "\n",
    "# Train the model\n",
    "model.train()\n",
    "for epoch in range(200):\n",
    "    optimizer.zero_grad()\n",
    "    out = model(data.x, data.edge_index)\n",
    "    # Use a placeholder for loss since we don't have labels\n",
    "    loss = out.sum()\n",
    "    loss.backward()\n",
    "    optimizer.step()\n",
    "    print(f'Epoch {epoch+1}: Loss {loss.item()}')\n",
    "\n",
    "node_embeddings = out.detach().cpu().numpy()\n",
    "\n",
    "# Now we apply KMeans to cluster the nodes to get the communities\n",
    "n_clusters = len(ground_truth_communities)  # 13477 communities\n",
    "kmeans = faiss.Kmeans(d=node_embeddings.shape[1], k=n_clusters, niter=20, verbose=True, gpu=True)\n",
    "kmeans.train(node_embeddings)\n",
    "\n",
    "predicted_labels = kmeans.index.search(node_embeddings, 1)[1].reshape(-1)\n",
    "\n",
    "np.save(\"predicted_labels_GCN.npy\",predicted_labels)"
   ]
  },
  {
   "cell_type": "markdown",
   "metadata": {},
   "source": [
    "#### Comparison with the Ground-Truth"
   ]
  },
  {
   "cell_type": "code",
   "execution_count": 32,
   "metadata": {},
   "outputs": [],
   "source": [
    "node_to_community = {}\n",
    "for i, community in enumerate(ground_truth_communities):\n",
    "    for node in community:\n",
    "        node_to_community[int(node)] = i\n",
    "\n",
    "max_node_id = max(node_to_community.keys())  # Find the highest node ID in your mapping\n",
    "ground_truth_labels = [node_to_community.get(node, -1) for node in range(max_node_id + 1)]"
   ]
  },
  {
   "cell_type": "code",
   "execution_count": 33,
   "metadata": {},
   "outputs": [
    {
     "name": "stdout",
     "output_type": "stream",
     "text": [
      "NMI Score: 0.350432123936192\n",
      "Adjusted Rand Score: 3.430259923277492e-05\n"
     ]
    }
   ],
   "source": [
    "# Calculate NMI between ground truth and predicted communities\n",
    "nmi_score = normalized_mutual_info_score(ground_truth_labels, predicted_labels)\n",
    "print(f'NMI Score: {nmi_score}')\n",
    "ari_score = adjusted_rand_score(ground_truth_labels,predicted_labels)\n",
    "print(f\"Adjusted Rand Score: {ari_score}\")"
   ]
  },
  {
   "cell_type": "markdown",
   "metadata": {},
   "source": [
    "NMI score is slightly higher than Louvain, but ARI is slightly lower than Louvain."
   ]
  },
  {
   "cell_type": "markdown",
   "metadata": {},
   "source": [
    "#### Modularity"
   ]
  },
  {
   "cell_type": "code",
   "execution_count": 36,
   "metadata": {},
   "outputs": [
    {
     "name": "stdout",
     "output_type": "stream",
     "text": [
      "Modularity: 0.014873851772620217\n"
     ]
    }
   ],
   "source": [
    "partition_gcn = {node_index: community_index for node_index, community_index in enumerate(predicted_labels)}\n",
    "modularity = community_louvain.modularity(partition_gcn, G)\n",
    "print(f\"Modularity: {modularity}\")"
   ]
  },
  {
   "cell_type": "markdown",
   "metadata": {},
   "source": [
    "This is a surprisingly low value, much lower than 82% of Louvain, despite better value for NMI. The algorithm seems to be fitted too much to the ground truth labels."
   ]
  },
  {
   "cell_type": "markdown",
   "metadata": {},
   "source": [
    "#### Density"
   ]
  },
  {
   "cell_type": "code",
   "execution_count": 37,
   "metadata": {},
   "outputs": [],
   "source": [
    "internal_densities, external_densities = calculate_densities(G, partition_gcn)"
   ]
  },
  {
   "cell_type": "code",
   "execution_count": 38,
   "metadata": {},
   "outputs": [],
   "source": [
    "external_densities_list = list(external_densities.values())\n",
    "internal_densities_list = list(internal_densities.values())"
   ]
  },
  {
   "cell_type": "code",
   "execution_count": 39,
   "metadata": {},
   "outputs": [
    {
     "data": {
      "image/png": "[encoded data removed]",
      "text/plain": [
       "<Figure size 640x480 with 1 Axes>"
      ]
     },
     "metadata": {},
     "output_type": "display_data"
    }
   ],
   "source": [
    "plt.boxplot([internal_densities_list, external_densities_list], patch_artist=True, notch=True, labels=['Internal', 'External'])\n",
    "# Adding titles and labels\n",
    "plt.title('Density Distribution of Communities')\n",
    "plt.ylabel('Density')\n",
    "\n",
    "# Show the plot\n",
    "plt.show()"
   ]
  },
  {
   "cell_type": "markdown",
   "metadata": {},
   "source": [
    "Although Internal Densities are higher than external densities, i.e. 171 times higher, the difference is not as big as for Louvain. But the model clearly form some fair communities."
   ]
  },
  {
   "cell_type": "code",
   "execution_count": 40,
   "metadata": {},
   "outputs": [
    {
     "name": "stdout",
     "output_type": "stream",
     "text": [
      "Internal Density:  0.003956196119073558\n",
      "External Density:  2.303801003458191e-05\n",
      "Internal is 171.72473287124143 times bigger\n"
     ]
    }
   ],
   "source": [
    "print(\"Internal Density: \", np.mean(internal_densities_list))\n",
    "print(\"External Density: \", np.mean(external_densities_list))\n",
    "print(f\"Internal is {np.mean(internal_densities_list)/np.mean(external_densities_list)} times bigger\")"
   ]
  },
  {
   "cell_type": "markdown",
   "metadata": {},
   "source": [
    "#### Coverage and Performance"
   ]
  },
  {
   "cell_type": "code",
   "execution_count": 41,
   "metadata": {},
   "outputs": [],
   "source": [
    "communities = []\n",
    "unique_communities = set(partition_gcn.values())\n",
    "for comm_id in unique_communities:\n",
    "    communities.append({node for node, c_id in partition_gcn.items() if c_id == comm_id})\n",
    "\n",
    "# Calculate coverage\n",
    "coverage, performance = partition_quality(G, communities)"
   ]
  },
  {
   "cell_type": "code",
   "execution_count": 42,
   "metadata": {},
   "outputs": [
    {
     "name": "stdout",
     "output_type": "stream",
     "text": [
      "Coverage:  0.015\n",
      "Performance:  1.0\n"
     ]
    }
   ],
   "source": [
    "print(\"Coverage: \", round(coverage,3))\n",
    "print(\"Performance: \", round(performance,3))"
   ]
  },
  {
   "cell_type": "markdown",
   "metadata": {},
   "source": [
    "Performance is the highest possible, thus the algorithm effectively identified all \"natural\" divisions within the network. It is slighly larger than Louvain. However, coverage is much smaller."
   ]
  },
  {
   "cell_type": "markdown",
   "metadata": {},
   "source": [
    "Coverage shows that 84.3% of all edges are within communities. It is a pretty good result. We will try another algorithm to compare it with this value.\n",
    "\n",
    "Such a high value of performance indicates that the communities have very sparse connections between communities, and very dense connections within communities. It effectively identified the \"natural\" divisions within  the network."
   ]
  },
  {
   "cell_type": "markdown",
   "metadata": {},
   "source": [
    "## Influence Maximization"
   ]
  },
  {
   "cell_type": "markdown",
   "metadata": {},
   "source": [
    "### Problem Definition"
   ]
  },
  {
   "cell_type": "markdown",
   "metadata": {},
   "source": [
    "By applying influence maximization on the Twitch social network dataset, we can find the set of streamers that maximize the flow of information. A similar analysis can be done by a gaming company which would like to promote their new game and wants to minimize its expenses on promotion."
   ]
  },
  {
   "cell_type": "markdown",
   "metadata": {},
   "source": [
    "### Dataset Definition"
   ]
  },
  {
   "cell_type": "markdown",
   "metadata": {},
   "source": [
    "For this lab, we used graph dataset of Twitch Social Networks. Nodes are the users who stream the gaming content in the platform, and edges are mutual friendships between them. We put the dataset to \"twitch\" folder in our submission directory. We downloaded it from [this page](https://snap.stanford.edu/data/twitch-social-networks.html). Each node also a set of anonymized features, based on the games played and liked, location and streaming habits. We would like to assign the edge weights based on amount of commonalities between these features. For our analysis, we used the French-speaking twitch streamers.\n",
    "\n",
    "**Key Statistics**\n",
    "\n",
    "- **Nodes**: 6,549 streamers\n",
    "- **Edges**: 112,666 mutual friendships between them"
   ]
  },
  {
   "cell_type": "code",
   "execution_count": 43,
   "metadata": {},
   "outputs": [],
   "source": [
    "from gensim.models import Word2Vec\n",
    "from node2vec import Node2Vec\n",
    "import networkx as nx"
   ]
  },
  {
   "cell_type": "code",
   "execution_count": 44,
   "metadata": {},
   "outputs": [],
   "source": [
    "data_path = 'twitch/musae_FR_edges.csv'"
   ]
  },
  {
   "cell_type": "markdown",
   "metadata": {},
   "source": [
    "### Using Machine Learning for Influence Maximization"
   ]
  },
  {
   "cell_type": "markdown",
   "metadata": {},
   "source": [
    "We are first obtaining Graph Embeddings using Node2Vec, to leverage the structural information encoded in these embeddings to identify nodes that, if activated, could maximize the spread of information across the network.\n"
   ]
  },
  {
   "cell_type": "code",
   "execution_count": 64,
   "metadata": {},
   "outputs": [],
   "source": [
    "embeddings = np.load('IM_Embedding_vectors.npy')"
   ]
  },
  {
   "cell_type": "markdown",
   "metadata": {},
   "source": [
    "##### The code below takes 5 minutes to execute. Alternatively load the results with the code above."
   ]
  },
  {
   "cell_type": "code",
   "execution_count": 46,
   "metadata": {},
   "outputs": [
    {
     "name": "stderr",
     "output_type": "stream",
     "text": [
      "Computing transition probabilities: 100%|██████████| 6549/6549 [00:21<00:00, 298.31it/s] \n",
      "Generating walks (CPU: 1): 100%|██████████| 13/13 [00:02<00:00,  5.49it/s]\n",
      "Generating walks (CPU: 2): 100%|██████████| 13/13 [00:02<00:00,  4.35it/s]\n",
      "Generating walks (CPU: 3): 100%|██████████| 12/12 [00:02<00:00,  5.54it/s]\n",
      "Generating walks (CPU: 4): 100%|██████████| 12/12 [00:02<00:00,  5.91it/s]\n"
     ]
    }
   ],
   "source": [
    "# Step 1: Load the Graph Data\n",
    "edges_df = pd.read_csv(data_path, delimiter=',', skiprows=4, names=['id_1', 'id_2'])\n",
    "\n",
    "# Assuming 'G' is the directed graph created from the edge list\n",
    "G = nx.from_pandas_edgelist(edges_df, source='id_1', target='id_2', create_using=nx.DiGraph())\n",
    "\n",
    "# Initialize Node2Vec model\n",
    "node2vec = Node2Vec(G, dimensions=32, walk_length=10, num_walks=50, workers=4)\n",
    "\n",
    "# Train Node2Vec model\n",
    "model = node2vec.fit(window=5, min_count=1, batch_words=4,sg=1)\n",
    "\n",
    "# Generate embeddings for each node\n",
    "embeddings = model.wv"
   ]
  },
  {
   "cell_type": "code",
   "execution_count": 65,
   "metadata": {},
   "outputs": [
    {
     "name": "stdout",
     "output_type": "stream",
     "text": [
      "[[-0.2676502   0.14241387  0.9070814  ... -0.7464064   0.0769706\n",
      "   0.61002034]\n",
      " [-0.25061625 -0.41902637  0.0079925  ... -0.20735204  0.093123\n",
      "  -0.19047548]\n",
      " [ 0.173244   -0.0598061   1.0059117  ... -0.64039457  0.291323\n",
      "   1.2455987 ]\n",
      " ...\n",
      " [-0.28430277 -0.00393142  0.05948021 ... -0.57154703 -0.15448073\n",
      "   0.10493864]\n",
      " [-0.05748443  0.14995278  0.24142067 ... -0.6190479   0.5025469\n",
      "   0.31988227]\n",
      " [ 0.05162992 -0.9301659   0.24904874 ... -0.6857389   0.414756\n",
      "  -0.05364721]]\n"
     ]
    }
   ],
   "source": [
    "# Assume 'embeddings' is a dictionary with node IDs as keys and embedding vectors as values\n",
    "embedding_vectors = np.array([embeddings[node_id] for node_id in range(len(G))])\n",
    "print(embedding_vectors)"
   ]
  },
  {
   "cell_type": "code",
   "execution_count": 48,
   "metadata": {},
   "outputs": [
    {
     "name": "stderr",
     "output_type": "stream",
     "text": [
      "/home/sayyor/.local/share/virtualenvs/Decision_Modelling-5MWfXJOk/lib/python3.10/site-packages/sklearn/cluster/_kmeans.py:1416: FutureWarning: The default value of `n_init` will change from 10 to 'auto' in 1.4. Set the value of `n_init` explicitly to suppress the warning\n",
      "  super()._check_params_vs_input(X, default_n_init=10)\n"
     ]
    }
   ],
   "source": [
    "# Cluster nodes based on their embeddings\n",
    "num_clusters = 10\n",
    "kmeans = KMeans(n_clusters=num_clusters)\n",
    "clusters = kmeans.fit_predict(embedding_vectors)\n",
    "\n",
    "# Identify central nodes within each cluster\n",
    "# This is a simplified example where we choose the closest node to each cluster center\n",
    "cluster_centers = kmeans.cluster_centers_\n",
    "central_nodes_per_cluster = []\n",
    "for i in range(num_clusters):\n",
    "    cluster_indices = np.where(clusters == i)[0]\n",
    "    cluster_embeddings = embedding_vectors[cluster_indices]\n",
    "    center_embedding = cluster_centers[i]\n",
    "    distances = np.linalg.norm(cluster_embeddings - center_embedding, axis=1)\n",
    "    central_node_index = cluster_indices[np.argmin(distances)]\n",
    "    central_nodes_per_cluster.append(central_node_index)"
   ]
  },
  {
   "cell_type": "code",
   "execution_count": 49,
   "metadata": {},
   "outputs": [
    {
     "data": {
      "text/plain": [
       "[4981, 5617, 3735, 6212, 3432, 2655, 4393, 579, 3779, 4292]"
      ]
     },
     "execution_count": 49,
     "metadata": {},
     "output_type": "execute_result"
    }
   ],
   "source": [
    "#Most Influenced Node for IM\n",
    "central_nodes_per_cluster"
   ]
  },
  {
   "cell_type": "code",
   "execution_count": 50,
   "metadata": {},
   "outputs": [
    {
     "name": "stdout",
     "output_type": "stream",
     "text": [
      "Total nodes influenced: 98\n"
     ]
    }
   ],
   "source": [
    "def simulate_icm(network, seed_nodes, activation_prob=0.1):\n",
    "    \"\"\"\n",
    "    Simulate the Independent Cascade Model of information spread.\n",
    "    :param network: NetworkX graph object.\n",
    "    :param seed_nodes: List of nodes to start the spread.\n",
    "    :param activation_prob: Probability of activating a neighboring node.\n",
    "    :return: Set of activated nodes by the end of the simulation.\n",
    "    \"\"\"\n",
    "    activated = set(seed_nodes)\n",
    "    newly_activated = set(seed_nodes)\n",
    "\n",
    "    while newly_activated:\n",
    "        next_round_activated = set()\n",
    "        for node in newly_activated:\n",
    "            for neighbor in network.neighbors(node):\n",
    "                if neighbor not in activated and np.random.rand() < activation_prob:\n",
    "                    next_round_activated.add(neighbor)\n",
    "                    activated.add(neighbor)\n",
    "        newly_activated = next_round_activated\n",
    "    return activated\n",
    "\n",
    "# Usage\n",
    "seed_nodes = [node_id for node_id in central_nodes_per_cluster]  # Central nodes from clustering\n",
    "influence_set = simulate_icm(G, seed_nodes)\n",
    "print(f\"Total nodes influenced: {len(influence_set)}\")"
   ]
  },
  {
   "cell_type": "code",
   "execution_count": 63,
   "metadata": {},
   "outputs": [
    {
     "name": "stdout",
     "output_type": "stream",
     "text": [
      "1.496 % of nodes were influenced with the selected nodes\n",
      "0.153 % of nodes that influenced the nodes\n"
     ]
    }
   ],
   "source": [
    "print(round((len(influence_set) / G.number_of_nodes()) * 100,3), \"% of nodes were influenced with the selected nodes\")\n",
    "print(round((len(central_nodes_per_cluster) / G.number_of_nodes()) * 100,3), \"% of nodes that influenced the nodes\")"
   ]
  },
  {
   "cell_type": "markdown",
   "metadata": {},
   "source": [
    "We can see above how many nodes were reached using the central nodes found, when appllying the Independent Cascade Model. \n",
    "Thus, 0.15% of nodes influenced 1.5% of other nodes in the network, which is impressive."
   ]
  }
 ],
 "metadata": {
  "kernelspec": {
   "display_name": "Decision_Modelling-5MWfXJOk",
   "language": "python",
   "name": "python3"
  },
  "language_info": {
   "codemirror_mode": {
    "name": "ipython",
    "version": 3
   },
   "file_extension": ".py",
   "mimetype": "text/x-python",
   "name": "python",
   "nbconvert_exporter": "python",
   "pygments_lexer": "ipython3",
   "version": "3.10.12"
  }
 },
 "nbformat": 4,
 "nbformat_minor": 2
}
